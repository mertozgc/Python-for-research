{
  "nbformat": 4,
  "nbformat_minor": 0,
  "metadata": {
    "colab": {
      "name": "assignments.ipynb",
      "provenance": [],
      "collapsed_sections": [],
      "authorship_tag": "ABX9TyNFCEggIyXCK5SXFGT0Jerc",
      "include_colab_link": true
    },
    "kernelspec": {
      "name": "python3",
      "display_name": "Python 3"
    },
    "language_info": {
      "name": "python"
    }
  },
  "cells": [
    {
      "cell_type": "markdown",
      "metadata": {
        "id": "view-in-github",
        "colab_type": "text"
      },
      "source": [
        "<a href=\"https://colab.research.google.com/github/mertozgc/python-basics-examples/blob/pyhthon-assignments/Covid-19%20Risk%20with%20If%20Statements.ipynb\" target=\"_parent\"><img src=\"https://colab.research.google.com/assets/colab-badge.svg\" alt=\"Open In Colab\"/></a>"
      ]
    },
    {
      "cell_type": "code",
      "metadata": {
        "colab": {
          "base_uri": "https://localhost:8080/"
        },
        "id": "BWSV1AyCMUdm",
        "outputId": "f6c22add-abdb-416a-9c90-2f849d560f82"
      },
      "source": [
        "name = \"john\"\n",
        "usr_outpt = input(\"Plase enter your name to see password: \")\n",
        "if name == usr_outpt :\n",
        "  print(\"hello,\",name,\"!\", \"The password is : Alpha-Beta-Charlie-Delta\")\n",
        "else :\n",
        "  print(\"hello,\",usr_outpt, \"! See you later\" )  "
      ],
      "execution_count": null,
      "outputs": [
        {
          "output_type": "stream",
          "name": "stdout",
          "text": [
            "Plase enter your name to see password: john\n",
            "hello, john ! The password is : Alpha-Beta-Charlie-Delta\n"
          ]
        }
   
