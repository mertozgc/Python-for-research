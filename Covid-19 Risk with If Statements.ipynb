{
  "nbformat": 4,
  "nbformat_minor": 0,
  "metadata": {
    "colab": {
      "name": "assignments.ipynb",
      "provenance": [],
      "collapsed_sections": [],
      "authorship_tag": "ABX9TyPH0SWRpCWqIRLsIjU4hBdA",
      "include_colab_link": true
    },
    "kernelspec": {
      "name": "python3",
      "display_name": "Python 3"
    },
    "language_info": {
      "name": "python"
    }
  },
  "cells": [
    {
      "cell_type": "markdown",
      "metadata": {
        "id": "view-in-github",
        "colab_type": "text"
      },
      "source": [
        "<a href=\"https://colab.research.google.com/github/mertozgc/python-basics-examples/blob/pyhthon-assignments/Covid-19%20Risk%20with%20If%20Statements.ipynb\" target=\"_parent\"><img src=\"https://colab.research.google.com/assets/colab-badge.svg\" alt=\"Open In Colab\"/></a>"
      ]
    },
    {
      "cell_type": "code",
      "metadata": {
        "colab": {
          "base_uri": "https://localhost:8080/"
        },
        "id": "Tzk2RWIYq6LO",
        "outputId": "32e3008e-2a70-450c-9b45-e5a1a45744a6"
      },
      "source": [
        "age = input(\"Are you a cigarette addict older than 75 years old? \") \n",
        "chronic = input(\"Do you have a severe chronic disease? \") \n",
        "immune =  input(\"Is your immune system too weak? \")\n",
        "\n",
        "if age == \"yes\" :\n",
        "  age = True  \n",
        "if chronic == \"yes\" :\n",
        "  chronic = True\n",
        "if immune == \"yes\":\n",
        "  immune = True\n",
        "\n",
        "if age and chronic and immune == True :\n",
        "  print(\"You are in risky group\")\n",
        "\n",
        "if age and chronic and immune == \"no\" :\n",
        "  print(\"You are not in risky group\")"
      ],
      "execution_count": 9,
      "outputs": [
        {
          "output_type": "stream",
          "name": "stdout",
          "text": [
            "Are you a cigarette addict older than 75 years old? no\n",
            "Do you have a severe chronic disease? yes\n",
            "Is your immune system too weak? yes\n",
            "You are in risky group\n"
          ]
        }
      ]
    }
  ]
}