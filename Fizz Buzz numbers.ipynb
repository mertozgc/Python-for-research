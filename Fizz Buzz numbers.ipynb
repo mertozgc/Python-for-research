{
  "nbformat": 4,
  "nbformat_minor": 0,
  "metadata": {
    "colab": {
      "name": "assignments.ipynb",
      "provenance": [],
      "collapsed_sections": [],
      "authorship_tag": "ABX9TyOOz0fDGAZpoJ4sHo4hXfhd",
      "include_colab_link": true
    },
    "kernelspec": {
      "name": "python3",
      "display_name": "Python 3"
    },
    "language_info": {
      "name": "python"
    }
  },
  "cells": [
    {
      "cell_type": "markdown",
      "metadata": {
        "id": "view-in-github",
        "colab_type": "text"
      },
      "source": [
        "<a href=\"https://colab.research.google.com/github/mertozgc/python-basics-examples/blob/pyhthon-assignments/Fizz%20Buzz%20numbers.ipynb\" target=\"_parent\"><img src=\"https://colab.research.google.com/assets/colab-badge.svg\" alt=\"Open In Colab\"/></a>"
      ]
    },
    {
      "cell_type": "code",
      "metadata": {
        "colab": {
          "base_uri": "https://localhost:8080/"
        },
        "id": "BWSV1AyCMUdm",
        "outputId": "f6c22add-abdb-416a-9c90-2f849d560f82"
      },
      "source": [
        "name = \"john\"\n",
        "usr_outpt = input(\"Plase enter your name to see password: \")\n",
        "if name == usr_outpt :\n",
        "  print(\"hello,\",name,\"!\", \"The password is : Alpha-Beta-Charlie-Delta\")\n",
        "else :\n",
        "  print(\"hello,\",usr_outpt, \"! See you later\" )  "
      ],
      "execution_count": null,
      "outputs": [
        {
          "output_type": "stream",
          "name": "stdout",
          "text": [
            "Plase enter your name to see password: john\n",
            "hello, john ! The password is : Alpha-Beta-Charlie-Delta\n"
          ]
        }
      ]
    },
    {
      "cell_type": "code",
      "metadata": {
        "colab": {
          "base_uri": "https://localhost:8080/"
        },
        "id": "Tzk2RWIYq6LO",
        "outputId": "32e3008e-2a70-450c-9b45-e5a1a45744a6"
      },
      "source": [
        "age = input(\"Are you a cigarette addict older than 75 years old? \") \n",
        "chronic = input(\"Do you have a severe chronic disease? \") \n",
        "immune =  input(\"Is your immune system too weak? \")\n",
        "\n",
        "if age == \"yes\" :\n",
        "  age = True  \n",
        "if chronic == \"yes\" :\n",
        "  chronic = True\n",
        "if immune == \"yes\":\n",
        "  immune = True\n",
        "\n",
        "if age and chronic and immune == True :\n",
        "  print(\"You are in risky group\")\n",
        "\n",
        "if age and chronic and immune == \"no\" :\n",
        "  print(\"You are not in risky group\")"
      ],
      "execution_count": null,
      "outputs": [
        {
          "output_type": "stream",
          "name": "stdout",
          "text": [
            "Are you a cigarette addict older than 75 years old? no\n",
            "Do you have a severe chronic disease? yes\n",
            "Is your immune system too weak? yes\n",
            "You are in risky group\n"
          ]
        }
      ]
    },
    {
      "cell_type": "code",
      "metadata": {
        "id": "6VVFKEHpse-o",
        "colab": {
          "base_uri": "https://localhost:8080/"
        },
        "outputId": "952c00e1-7933-4789-da86-43fccb21a9b5"
      },
      "source": [
        "user_nbr = int(input(\"enter your number : \"))\n",
        "\n",
        "sum = 0\n",
        "\n",
        "if user_nbr <= 0:\n",
        "  user_nbr == False\n",
        "\n",
        "temp = user_nbr\n",
        "while user_nbr == True and temp > 0:\n",
        "  number = temp % 10\n",
        "  sum += number ** 3\n",
        "  temp //= 10\n",
        "\n",
        "if user_nbr == sum:\n",
        "  print(user_nbr, \"is an Armstrong number\")\n",
        "\n",
        "else :\n",
        "  print(user_nbr, \"is not an Armstrong number\")    "
      ],
      "execution_count": null,
      "outputs": [
        {
          "output_type": "stream",
          "name": "stdout",
          "text": [
            "enter your number : 9474\n",
            "9474 is not an Armstrong number\n"
          ]
        }
      ]
    },
    {
      "cell_type": "code",
      "metadata": {
        "id": "-UOU8aeYnhGX"
      },
      "source": [
        ""
      ],
      "execution_count": null,
      "outputs": []
    },
    {
      "cell_type": "code",
      "metadata": {
        "id": "xO3uSn1fnmhk"
      },
      "source": [
        "# \n",
        "def sum_double (x, y) :\n",
        "  if x == y:\n",
        "    print(int((x + y) * 2))\n",
        "  else:\n",
        "    print(int(x + y))"
      ],
      "execution_count": null,
      "outputs": []
    },
    {
      "cell_type": "code",
      "metadata": {
        "id": "t93U7O3Dnmpo",
        "colab": {
          "base_uri": "https://localhost:8080/"
        },
        "outputId": "841f7c83-16f0-42f5-f26e-8fda7351fd4b"
      },
      "source": [
        "sum_double(5, 5)"
      ],
      "execution_count": null,
      "outputs": [
        {
          "output_type": "stream",
          "name": "stdout",
          "text": [
            "20\n"
          ]
        }
      ]
    },
    {
      "cell_type": "code",
      "metadata": {
        "id": "kTMTlMt6BDqF"
      },
      "source": [
        "sum_double = lambda x, y : ((x + y) * 2) if x == y else (x + y)"
      ],
      "execution_count": null,
      "outputs": []
    },
    {
      "cell_type": "code",
      "metadata": {
        "colab": {
          "base_uri": "https://localhost:8080/"
        },
        "id": "B4huzhrNBEq2",
        "outputId": "ad387fb0-f73f-45c9-86f7-b729ceec1eea"
      },
      "source": [
        "print(sum_double(5, 5))"
      ],
      "execution_count": null,
      "outputs": [
        {
          "output_type": "stream",
          "name": "stdout",
          "text": [
            "20\n"
          ]
        }
      ]
    },
    {
      "cell_type": "code",
      "metadata": {
        "id": "cWmIehrzBVW9",
        "colab": {
          "base_uri": "https://localhost:8080/"
        },
        "outputId": "3dc4f3b5-eb30-457d-a4f6-342838ec8958"
      },
      "source": [
        "for i in range(1, 100):\n",
        "  if i % 5 == 0 and i % 3 == 0:  \n",
        "    print('FizzBuzz')\n",
        "  elif i % 3 == 0:\n",
        "    print('Fizz')\n",
        "  elif i % 5 == 0:\n",
        "    print('Buzz')\n",
        "  else :\n",
        "    print(i)    "
      ],
      "execution_count": 30,
      "outputs": [
        {
          "output_type": "stream",
          "name": "stdout",
          "text": [
            "1\n",
            "2\n",
            "Fizz \n",
            "4\n",
            "Buzz \n",
            "Fizz \n",
            "7\n",
            "8\n",
            "Fizz \n",
            "Buzz \n",
            "11\n",
            "Fizz \n",
            "13\n",
            "14\n",
            "FizzBuzz \n",
            "16\n",
            "17\n",
            "Fizz \n",
            "19\n",
            "Buzz \n",
            "Fizz \n",
            "22\n",
            "23\n",
            "Fizz \n",
            "Buzz \n",
            "26\n",
            "Fizz \n",
            "28\n",
            "29\n",
            "FizzBuzz \n",
            "31\n",
            "32\n",
            "Fizz \n",
            "34\n",
            "Buzz \n",
            "Fizz \n",
            "37\n",
            "38\n",
            "Fizz \n",
            "Buzz \n",
            "41\n",
            "Fizz \n",
            "43\n",
            "44\n",
            "FizzBuzz \n",
            "46\n",
            "47\n",
            "Fizz \n",
            "49\n",
            "Buzz \n",
            "Fizz \n",
            "52\n",
            "53\n",
            "Fizz \n",
            "Buzz \n",
            "56\n",
            "Fizz \n",
            "58\n",
            "59\n",
            "FizzBuzz \n",
            "61\n",
            "62\n",
            "Fizz \n",
            "64\n",
            "Buzz \n",
            "Fizz \n",
            "67\n",
            "68\n",
            "Fizz \n",
            "Buzz \n",
            "71\n",
            "Fizz \n",
            "73\n",
            "74\n",
            "FizzBuzz \n",
            "76\n",
            "77\n",
            "Fizz \n",
            "79\n",
            "Buzz \n",
            "Fizz \n",
            "82\n",
            "83\n",
            "Fizz \n",
            "Buzz \n",
            "86\n",
            "Fizz \n",
            "88\n",
            "89\n",
            "FizzBuzz \n",
            "91\n",
            "92\n",
            "Fizz \n",
            "94\n",
            "Buzz \n",
            "Fizz \n",
            "97\n",
            "98\n",
            "Fizz \n"
          ]
        }
      ]
    },
    {
      "cell_type": "code",
      "metadata": {
        "id": "wOCeI-WRjZUU"
      },
      "source": [
        ""
      ],
      "execution_count": null,
      "outputs": []
    }
  ]
}